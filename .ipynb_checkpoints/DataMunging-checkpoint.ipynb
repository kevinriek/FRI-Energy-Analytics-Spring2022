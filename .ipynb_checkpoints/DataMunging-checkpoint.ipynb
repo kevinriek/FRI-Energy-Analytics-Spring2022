{
 "cells": [
  {
   "cell_type": "code",
   "execution_count": 1,
   "id": "a624af0d",
   "metadata": {},
   "outputs": [],
   "source": [
    "import numpy as np                        # ndarrys for gridded data\n",
    "import pandas as pd                       # DataFrames for tabular data\n",
    "import os                                 # set working directory, run executables\n",
    "import matplotlib.pyplot as plt           # for plotting\n",
    "import copy                               # for deep copies"
   ]
  },
  {
   "cell_type": "code",
   "execution_count": 2,
   "id": "a6dffa3c",
   "metadata": {},
   "outputs": [],
   "source": [
    "#import production data into pandas Dataframe from excel\n",
    "filename = os.path.abspath('') + '\\\\Data\\\\Raw\\\\Oil_Gas_Production_All_Years.xlsx'\n",
    "file = open(filename, \"rb\")\n",
    "prodDF = pd.read_excel(file, engine=\"openpyxl\", sheet_name=\"Export_4_Web\")\n",
    "\n",
    "#import injection data into pandas Dataframe from excel\n",
    "filename = os.path.abspath('') + '\\\\Data\\\\Raw\\\\UIC_InjectionData_All_Years.xlsx'\n",
    "file = open(filename, \"rb\")\n",
    "injectDF = pd.read_excel(file, engine=\"openpyxl\", sheet_name=\"UIC_Injection_Data\")"
   ]
  },
  {
   "cell_type": "code",
   "execution_count": 3,
   "id": "d743c8b8",
   "metadata": {},
   "outputs": [],
   "source": [
    "#Remove unused columns from data\n",
    "prodDF = prodDF.drop(columns=['API_No', 'Facility_ID', 'County', 'Qsec_location', 'Marketed_Gas_mcf',\n",
    "                             'Total_oil_On_Hand_End_Month', 'Prod_Comments', 'Reported_Operator_Name',\n",
    "                             'Production_Confidential', 'Export Date'])\n",
    "\n",
    "#Filter out the non-producing data points and wells with no production\n",
    "prodDF = prodDF[prodDF.Reported_Well_Status_A == \"Producing\"]\n",
    "prodDF = prodDF.fillna(0)\n",
    "#Note: this filters out all rows with NaN values, could also fill NaN values with 0, or impute the values!\n",
    "\n",
    "\n",
    "#Replace empty production days values with max (30)\n",
    "#prodDF.Prod_Days = prodDF.Prod_Days.replace(np.nan, 30, regex=True)\n",
    "\n",
    "p_wells = prodDF.groupby(prodDF.Well_Name)\n",
    "p_wells = p_wells.filter(lambda x: x.Oil_bbls.mean() > 1 and len(x) > 60)\n",
    "prodDF = pd.DataFrame(p_wells)\n",
    "\n",
    "#write out filtered data to Filtered Dataset\n",
    "filename = os.path.abspath('') + '\\\\Data\\\\Filtered\\\\FilteredProduction.xlsx'\n",
    "prodDF.to_excel(filename)"
   ]
  },
  {
   "cell_type": "code",
   "execution_count": 4,
   "id": "df9edd10",
   "metadata": {},
   "outputs": [],
   "source": [
    "injectDF = injectDF.drop(columns=['API_Number', 'Facility_ID', 'UnitsVol', 'UnitsVolAvg', 'UnitsAvgPressure',\n",
    "                                  'UnitsPressure', 'UIC_Operator_Name', 'Export Date'])\n",
    "\n",
    "#Filter out non-injection wells and print to Filtered Dataset\n",
    "injectDF = injectDF[injectDF.UIC_Well_Status == \"Injecting\"]\n",
    "injectDF = injectDF.fillna(0)\n",
    "injectDF = injectDF[injectDF.Enhanced_Recovery_Unit != 'None']\n",
    "\n",
    "i_wells = injectDF.groupby(['Enhanced_Recovery_Unit', 'Well_Name'])\n",
    "i_wells = i_wells.filter(lambda x: x.Vol_Fluid_Injected.mean() > 1 and len(x) >= 4)\n",
    "injectDF = pd.DataFrame(i_wells)\n",
    "\n",
    "filename = os.path.abspath('') + '\\\\Data\\\\Filtered\\\\FilteredInjection.xlsx'\n",
    "injectDF.to_excel(filename)"
   ]
  },
  {
   "cell_type": "code",
   "execution_count": 8,
   "id": "0c50fe88",
   "metadata": {},
   "outputs": [],
   "source": [
    "#Function that will print all of the data of a specific data to an .xlsx file\n",
    "def print_well(well_name, well_type):\n",
    "    if (well_type == \"Production\"):\n",
    "        well_groups = prodDF.groupby(prodDF.Well_Name)\n",
    "        df = pd.DataFrame(well_groups.get_group(well_name))\n",
    "        filename = os.path.abspath('') + '\\\\Data\\\\Use\\\\well_' + well_name + '.xlsx'\n",
    "        df.to_excel(filename)\n",
    "    elif (well_type == \"Injection\"):\n",
    "        well_groups = injectDF.groupby(injectDF.Well_name)\n",
    "        df = pd.DataFrame(well_groups.get_group(well_name))\n",
    "        filename = os.path.abspath('') + '\\\\Data\\\\Use\\\\well_' + well_name + '.xlsx'\n",
    "        df.to_excel(filename)\n",
    "    else:\n",
    "        raise Exception(\"Invalid Well Type\")"
   ]
  },
  {
   "cell_type": "code",
   "execution_count": 9,
   "id": "7a32e2ea",
   "metadata": {},
   "outputs": [],
   "source": [
    "#Function that will print all of the production and injection data of a given unit\n",
    "#into 2 separate .xlsx files.\n",
    "def print_unit(unit_name):\n",
    "    well_groups = prodDF.groupby(prodDF.Enhanced_Recovery_Unit)\n",
    "    df = pd.DataFrame(well_groups.get_group(unit_name))\n",
    "    filename = os.path.abspath('') + '\\\\Data\\\\Use\\\\unit_production_' + unit_name + '.xlsx'\n",
    "    df.to_excel(filename)\n",
    "        \n",
    "    well_groups = injectDF.groupby(injectDF.Enhanced_Recovery_Unit)\n",
    "    df =  pd.DataFrame(well_groups.get_group(unit_name))\n",
    "    filename = os.path.abspath('') + '\\\\Data\\\\Use\\\\unit_injection_' + unit_name + '.xlsx'\n",
    "    df.to_excel(filename)"
   ]
  },
  {
   "cell_type": "code",
   "execution_count": 10,
   "id": "44feb55a",
   "metadata": {},
   "outputs": [],
   "source": [
    "print_well(\"SBRRU 34-11\", \"Production\")"
   ]
  },
  {
   "cell_type": "code",
   "execution_count": 11,
   "id": "b4cfa0b1",
   "metadata": {},
   "outputs": [],
   "source": [
    "print_unit(\"East Harding Springs Red River Unit\")"
   ]
  },
  {
   "cell_type": "code",
   "execution_count": 12,
   "id": "daa83ca0",
   "metadata": {},
   "outputs": [],
   "source": [
    "#Printing multiple wells at once:\n",
    "#    -In this case we are printing the longest running wells to xlsx\n",
    "\n",
    "well_groups = prodDF.groupby(prodDF.Well_Name).filter(lambda x: len(x) > 500)\n",
    "filename = os.path.abspath('') + '\\\\Data\\\\Use\\\\LongestProductionWells.xlsx'\n",
    "well_groups.to_excel(filename)"
   ]
  }
 ],
 "metadata": {
  "kernelspec": {
   "display_name": "Python [conda env:FRI_env]",
   "language": "python",
   "name": "conda-env-FRI_env-py"
  },
  "language_info": {
   "codemirror_mode": {
    "name": "ipython",
    "version": 3
   },
   "file_extension": ".py",
   "mimetype": "text/x-python",
   "name": "python",
   "nbconvert_exporter": "python",
   "pygments_lexer": "ipython3",
   "version": "3.7.0"
  }
 },
 "nbformat": 4,
 "nbformat_minor": 5
}
