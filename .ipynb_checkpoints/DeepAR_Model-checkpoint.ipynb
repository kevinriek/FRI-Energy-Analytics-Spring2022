{
 "cells": [
  {
   "cell_type": "code",
   "execution_count": 55,
   "id": "c602887c",
   "metadata": {},
   "outputs": [],
   "source": [
    "import numpy as np                        # ndarrys for gridded data\n",
    "import pandas as pd                       # DataFrames for tabular data\n",
    "import os                                 # set working directory, run executables\n",
    "import matplotlib.pyplot as plt           # for plotting\n",
    "import copy                               # for deep copies\n",
    "import warnings\n",
    "import json\n",
    "import properscoring as ps\n",
    "import random"
   ]
  },
  {
   "cell_type": "code",
   "execution_count": 56,
   "id": "53edf9ec",
   "metadata": {},
   "outputs": [],
   "source": [
    "from gluonts.model.deepar import DeepAREstimator\n",
    "from gluonts.mx.trainer import Trainer\n",
    "from gluonts.dataset.util import to_pandas\n",
    "from gluonts.evaluation import make_evaluation_predictions\n",
    "from gluonts.dataset.common import ListDataset\n",
    "from gluonts.evaluation import make_evaluation_predictions\n",
    "from gluonts.evaluation import Evaluator\n",
    "from gluonts.dataset.field_names import FieldName\n",
    "\n",
    "from sklearn.metrics import mean_squared_error as mse\n",
    "from sklearn.preprocessing import MinMaxScaler\n",
    "import scipy"
   ]
  },
  {
   "cell_type": "code",
   "execution_count": 57,
   "id": "082af1d5",
   "metadata": {},
   "outputs": [],
   "source": [
    "#Display all of the rows in a dataframe\n",
    "pd.set_option('display.max_rows', 10000)\n",
    "warnings.filterwarnings(\"ignore\")\n",
    "sc = MinMaxScaler()\n",
    "sens_analysis = False\n",
    "pred_len = 60\n",
    "random.seed(42)"
   ]
  },
  {
   "cell_type": "code",
   "execution_count": 58,
   "id": "595caf42",
   "metadata": {},
   "outputs": [],
   "source": [
    "filename = os.path.abspath('') + '\\\\Data\\\\Filtered\\\\FilteredProduction.xlsx'\n",
    "file = open(filename, \"rb\")\n",
    "prodDF = pd.read_excel(file, engine=\"openpyxl\")\n",
    "\n",
    "filename = os.path.abspath('') + '\\\\Data\\\\Filtered\\\\FilteredInjection.xlsx'\n",
    "file = open(filename, \"rb\")\n",
    "injectDF = pd.read_excel(file, engine=\"openpyxl\")\n",
    "\n",
    "filename = \"LongestProductionWells.xlsx\"\n",
    "filename = os.path.abspath('') + \"\\\\Data\\\\Use\\\\\" + filename\n",
    "file = open(filename, \"rb\")\n",
    "testDF = pd.read_excel(file, engine='openpyxl')"
   ]
  },
  {
   "cell_type": "code",
   "execution_count": 59,
   "id": "255f05a0",
   "metadata": {},
   "outputs": [],
   "source": [
    "###########    Injection by Unit     #########\n",
    "\n",
    "# copyDF = prodDF\n",
    "# copyInj = injectDF#\n",
    "\n",
    "# use_unit = \"Travers Ranch Red River Unit\"\n",
    "\n",
    "# p_units = prodDF.groupby(prodDF.Enhanced_Recovery_Unit)\n",
    "# prodDF = p_units.get_group(use_unit)\n",
    "\n",
    "# i_units = injectDF.groupby(injectDF.Enhanced_Recovery_Unit)\n",
    "# injectDF = i_units.get_group(use_unit)"
   ]
  },
  {
   "cell_type": "code",
   "execution_count": 60,
   "id": "1890a0c2",
   "metadata": {},
   "outputs": [],
   "source": [
    "#prodDF = copyDF\n",
    "#injectDF = copyInj"
   ]
  },
  {
   "cell_type": "code",
   "execution_count": 61,
   "id": "b38ac383",
   "metadata": {},
   "outputs": [],
   "source": [
    "p_units = prodDF.groupby(prodDF.Enhanced_Recovery_Unit)\n",
    "unit_wells = {}\n",
    "for p_unit, data in p_units:\n",
    "    unit_wells[p_unit] = pd.unique(data['Well_Name'])\n",
    "    \n",
    "well_units = {}\n",
    "for key in unit_wells:\n",
    "    wells = unit_wells[key]\n",
    "    for w in wells:\n",
    "        if (~(w in well_units.keys())):\n",
    "            well_units[w] = key"
   ]
  },
  {
   "cell_type": "code",
   "execution_count": 62,
   "id": "6959917f",
   "metadata": {},
   "outputs": [],
   "source": [
    "#Group dataset by well\n",
    "well_groups = prodDF.groupby(prodDF.Well_Name)\n",
    "well_names = []\n",
    "wells = []\n",
    "\n",
    "prod_Data_Vol = 0\n",
    "\n",
    "for well, data in well_groups:\n",
    "    well_names.append(well)\n",
    "    if (len(data) > pred_len):\n",
    "        wells.append(data)\n",
    "        prod_Data_Vol += len(well)\n",
    "    \n",
    "#test_wells = well_names                                  #Injection by Unit\n",
    "test_groups = testDF.groupby(testDF.Well_Name)\n",
    "test_wells = []\n",
    "for well, data in test_groups:\n",
    "    test_wells.append(well)\n",
    "    \n",
    "i_well_groups = injectDF.groupby([\"Well_Name\", \"Enhanced_Recovery_Unit\"])\n",
    "i_wells = []\n",
    "for i_well, data in i_well_groups:\n",
    "    if (len(data) > pred_len):\n",
    "        i_wells.append(data)"
   ]
  },
  {
   "cell_type": "code",
   "execution_count": 63,
   "id": "2c450b62",
   "metadata": {},
   "outputs": [],
   "source": [
    "train_list = []\n",
    "test_list = []\n",
    "for x in wells:\n",
    "    #well_name = pd.unique(x.Well_Name)[0]\n",
    "    length = x.Oil_bbls.size\n",
    "\n",
    "    covar_train = []\n",
    "    covar_test = []\n",
    "    \n",
    "#     for i in i_wells:            #Injection: all wells\n",
    "#         i_well = i\n",
    "#         i_well = i_well.set_index(i_well.Date_Injection_Report)\n",
    "#         i_well = i_well[~i_well.index.duplicated()]\n",
    "#         if (x.Enhanced_Recovery_Unit.iloc[length - 1] == i_well.Enhanced_Recovery_Unit.iloc[len(i_well) - 1]):\n",
    "#             i_well = i_well.reindex(x.Date_Production, fill_value=0)\n",
    "#         else:\n",
    "#             i_well = i_well.reindex(x.Date_Production)\n",
    "#             i_well[:] = 0\n",
    "        \n",
    "#         if (sens_analysis):\n",
    "#             #Set the test injection covariate values (to see effect)\n",
    "#             ratio = 1.0    #Proportion to set all test injection values to\n",
    "#             i_well.Vol_Fluid_Injected[int(length - pred_len):] = max(i_well.Vol_Fluid_Injected) * ratio\n",
    "        \n",
    "#         covar_train.append(i_well.Vol_Fluid_Injected[:int(length - pred_len)])\n",
    "#         covar_test.append(i_well.Vol_Fluid_Injected)\n",
    "        \n",
    "#     covar_train = sc.fit_transform(covar_train)\n",
    "#     covar_test = sc.fit_transform(covar_test)\n",
    "    \n",
    "    prod_days = sc.fit_transform(x.Prod_Days.values.reshape(-1, 1))\n",
    "    prod_days = prod_days.reshape(1, -1)[0]\n",
    "    \n",
    "    covar_train = [prod_days[:int(length - pred_len)]]\n",
    "    covar_test = [prod_days]\n",
    "    \n",
    "    #np.insert(covar_train, 0, prod_days[:int(length - pred_len)])\n",
    "    #np.insert(covar_test, 0, prod_days)\n",
    "    \n",
    "    train_list.append({\n",
    "        'target': x.Oil_bbls[:int(length - pred_len)],\n",
    "        'start': x.iloc[0].Date_Production,\n",
    "        'feat_dynamic_real': covar_train\n",
    "    })\n",
    "    test_list.append({\n",
    "        'target': x.Oil_bbls,\n",
    "        'start': x.iloc[0].Date_Production,\n",
    "        'feat_dynamic_real': covar_test\n",
    "    })\n",
    "train_ds = ListDataset(train_list, freq=\"1M\")\n",
    "test_ds = ListDataset(test_list, freq=\"1M\")"
   ]
  },
  {
   "cell_type": "code",
   "execution_count": 64,
   "id": "af384be7",
   "metadata": {},
   "outputs": [],
   "source": [
    "############     Injection by Sum     ########### \n",
    "\n",
    "#unit_volumes = injectDF.groupby(['Enhanced_Recovery_Unit', 'Date_Injection_Report'])['Vol_Fluid_Injected'].sum()\n",
    "#inj_dict = {}\n",
    "#for well, data in well_groups:\n",
    "#    unit = data.iloc[0].Enhanced_Recovery_Unit\n",
    "#    inj_dict[well] = unit_volumes[unit]\n",
    "#    \n",
    "#for well in wells:\n",
    "#    well_name = well.iloc[0].Well_Name\n",
    "#    inj_vols = inj_dict[well_name].reindex(well.Date_Production)\n",
    "#    well['Injection_bbls'] = inj_vols.values\n",
    "#    well['Injection_bbls'] = well['Injection_bbls'].fillna(0)"
   ]
  },
  {
   "cell_type": "code",
   "execution_count": 65,
   "id": "c2b72118",
   "metadata": {},
   "outputs": [],
   "source": [
    "############     Injection by Sum     ########### \n",
    "\n",
    "#train_ds = ListDataset(\n",
    "#    [{'target': x.Oil_bbls[:int(x.Oil_bbls.size - pred_len)], 'start': x.iloc[0].Date_Production,\n",
    "#      'feat_dynamic_real': [x.Water_bbls[:int(x.Oil_bbls.size - pred_len)],\n",
    "#                            #x.Injection_bbls[:int(x.Oil_bbls.size - pred_len)],\n",
    "#                            x.Prod_Days[:int(x.Oil_bbls.size - pred_len)]]} for x in wells], freq=\"1M\" \n",
    "#)\n",
    "#test_ds = ListDataset(\n",
    "#    [{'target': x.Oil_bbls, 'start': x.iloc[0].Date_Production,\n",
    "#      'feat_dynamic_real': [x.Water_bbls, x.Prod_Days]} for x in wells], freq=\"1M\"\n",
    "#      #'feat_dynamic_real': [x.Water_bbls, x.Injection_bbls, x.Prod_Days]} for x in wells], freq=\"1M\"\n",
    "#)"
   ]
  },
  {
   "cell_type": "code",
   "execution_count": null,
   "id": "a0781976",
   "metadata": {},
   "outputs": [
    {
     "name": "stderr",
     "output_type": "stream",
     "text": [
      "100%|█████████████████████████████████████████████████| 50/50 [00:09<00:00,  5.06it/s, epoch=1/25, avg_epoch_loss=7.07]\n",
      "100%|█████████████████████████████████████████████████| 50/50 [00:08<00:00,  5.58it/s, epoch=2/25, avg_epoch_loss=6.62]\n",
      "100%|█████████████████████████████████████████████████| 50/50 [00:09<00:00,  5.54it/s, epoch=3/25, avg_epoch_loss=6.44]\n",
      "100%|█████████████████████████████████████████████████| 50/50 [00:08<00:00,  5.63it/s, epoch=4/25, avg_epoch_loss=6.43]\n",
      "100%|█████████████████████████████████████████████████| 50/50 [00:13<00:00,  3.73it/s, epoch=5/25, avg_epoch_loss=6.36]\n",
      "100%|█████████████████████████████████████████████████| 50/50 [00:14<00:00,  3.41it/s, epoch=6/25, avg_epoch_loss=6.33]\n",
      "100%|█████████████████████████████████████████████████| 50/50 [00:14<00:00,  3.37it/s, epoch=7/25, avg_epoch_loss=6.32]\n",
      "  0%|                                                                                           | 0/50 [00:00<?, ?it/s]"
     ]
    }
   ],
   "source": [
    "#Some parameters have to be set in Trainer() ex: epochs, batches per epoch\n",
    "#estimator = DeepAREstimator(freq=\"1M\", prediction_length=pred_len, trainer=Trainer(),#(epochs=10),\n",
    "#                            use_feat_dynamic_real=True)\n",
    "random.seed(42)\n",
    "estimator = DeepAREstimator(freq=\"1M\", prediction_length=pred_len, trainer=Trainer(epochs=25),\n",
    "                                #learning_rate=.0001,\n",
    "                                #num_batches_per_epoch=100), \n",
    "                                use_feat_dynamic_real=False)  #Tuning without Injection!!!\n",
    "                                #num_cells=40, num_layers=4, dropout_rate=.3, batch_size=32,\n",
    "                                #context_length=None, cell_type='lstm')\n",
    "\n",
    "\n",
    "predictor = estimator.train(training_data=train_ds)"
   ]
  },
  {
   "cell_type": "code",
   "execution_count": null,
   "id": "cea1f4e0",
   "metadata": {},
   "outputs": [],
   "source": [
    "forecast_it, ts_it = make_evaluation_predictions(\n",
    "    dataset=test_ds,  # test dataset\n",
    "    predictor=predictor,  # predictor\n",
    "    num_samples=10,  # number of sample paths we want for evaluation          #Tune this value???\n",
    ")\n",
    "forecasts = list(forecast_it)\n",
    "tss = list(ts_it)"
   ]
  },
  {
   "cell_type": "code",
   "execution_count": null,
   "id": "67bf18ec",
   "metadata": {},
   "outputs": [],
   "source": [
    "def plot_prob_forecasts(ts_entry, forecast_entry, well_name):\n",
    "    plot_length = 700\n",
    "    prediction_intervals = (50.0, 90.0)\n",
    "    legend = [\"observations\", \"median prediction\"] + [f\"{k}% prediction interval\" for k in prediction_intervals][::-1]\n",
    "\n",
    "    fig, ax = plt.subplots(1, 1, figsize=(10, 7))\n",
    "    ts_entry[-plot_length:].plot(ax=ax)  # plot the time series\n",
    "    forecast_entry.plot(prediction_intervals=prediction_intervals, color='g')\n",
    "    plt.subplots_adjust(left=0.0, bottom=0.0, right=1.15, top=1.0, wspace=0.2, hspace=0.2)\n",
    "    plt.grid(which=\"both\")\n",
    "    plt.legend(legend, loc=\"upper right\")\n",
    "    plt.xlabel('year')\n",
    "    plt.ylabel('Oil bbls')\n",
    "    plt.title(\"Integrated \" + well_name + \" Forecast\")\n",
    "    plt.show()"
   ]
  },
  {
   "cell_type": "code",
   "execution_count": null,
   "id": "2267d3c6",
   "metadata": {},
   "outputs": [],
   "source": [
    "for i in range(len(tss)):\n",
    "    if well_names[i] == \"I-28H McKitrick\": #in test_wells:\n",
    "        plot_prob_forecasts(tss[i], forecasts[i], well_names[i])       "
   ]
  },
  {
   "cell_type": "code",
   "execution_count": null,
   "id": "9528b520",
   "metadata": {},
   "outputs": [],
   "source": [
    "evaluator = Evaluator(quantiles=[0.1, 0.5, 0.9])\n",
    "agg_metrics, item_metrics = evaluator(iter(tss), iter(forecasts), num_series=len(train_ds))\n",
    "aggDF = pd.DataFrame([agg_metrics])\n",
    "aggDF"
   ]
  },
  {
   "cell_type": "code",
   "execution_count": null,
   "id": "f246dbc9",
   "metadata": {},
   "outputs": [],
   "source": [
    "crps_list = []\n",
    "for i in range(len(tss)):\n",
    "    crps = ps.crps_ensemble(tss[i][(len(tss[i]) - pred_len):][0].values, np.transpose(forecasts[i].samples)).mean()\n",
    "    crps_list.append(crps)\n",
    "    \n",
    "item_metrics['Mean CRPS'] = crps_list\n",
    "item_metrics['RMSE'] = item_metrics['MSE']**(.5)\n",
    "agg_metrics['Mean CRPS'] = sum(crps_list)/len(crps_list)"
   ]
  },
  {
   "cell_type": "code",
   "execution_count": null,
   "id": "729ad37f",
   "metadata": {},
   "outputs": [],
   "source": [
    "aggDict = {'MAPE':round(agg_metrics['MAPE'], 3), \n",
    "           'Mean CRPS':round(agg_metrics['Mean CRPS'], 4)}\n",
    "aggDF = pd.DataFrame([aggDict])\n",
    "aggDF"
   ]
  },
  {
   "cell_type": "code",
   "execution_count": null,
   "id": "08e399db",
   "metadata": {},
   "outputs": [],
   "source": [
    "unit_agg_dict = {}\n",
    "for i in range(len(item_metrics)):\n",
    "    unit_name = well_units[well_names[i]]\n",
    "    if (unit_name in [\"Alum Creek Unit\", \"Buffalo Red River Unit\", \"Central Buffalo Red River Unit\",\n",
    "                 \"East Harding Springs Red River Unit\", \"North Buffalo Red River Unit\",\n",
    "                 \"Pete's Creek Red River Unit\", \"South Buffalo Red River Unit\",\n",
    "                 \"West Buffalo B Red River Unit\", \"West Buffalo Red River Unit\"]):\n",
    "        if unit_name in unit_agg_dict.keys():\n",
    "            unit_agg_dict[unit_name].append(item_metrics.iloc[i])\n",
    "        else:\n",
    "            arr = [item_metrics.iloc[i]]\n",
    "            unit_agg_dict[unit_name] = arr\n",
    "                          \n",
    "unit_metrics = []\n",
    "for key in unit_agg_dict:\n",
    "    sum_crps = 0\n",
    "    sum_mape = 0\n",
    "    for well in unit_agg_dict[key]:\n",
    "        sum_crps += well[\"Mean CRPS\"]\n",
    "        sum_mape += well[\"MAPE\"]\n",
    "                          \n",
    "    unit_metrics.append({\"Unit Name\": key, \"Prod Data Volume\":prod_Data_Vol,\n",
    "                         \"MAPE\":sum_mape/len(unit_agg_dict[key]), \"mCRPS\":sum_crps/len(unit_agg_dict[key])})\n",
    "unit_metrics_DF = pd.DataFrame(unit_metrics)"
   ]
  },
  {
   "cell_type": "code",
   "execution_count": null,
   "id": "dda19b3b",
   "metadata": {},
   "outputs": [],
   "source": [
    "unit_metrics_DF.sort_values('Unit Name')"
   ]
  },
  {
   "cell_type": "code",
   "execution_count": null,
   "id": "e704385c",
   "metadata": {},
   "outputs": [],
   "source": [
    "top_metrics = []\n",
    "for i in range(len(item_metrics)):\n",
    "    item_metrics.item_id[i] = well_names[i]\n",
    "    if well_names[i] in test_wells:\n",
    "        top_metrics.append(item_metrics.iloc[i])\n",
    "top_metrics_DF = pd.DataFrame(top_metrics)\n",
    "top_metrics_DF.drop(columns=['MSE', 'abs_target_sum', 'MSIS', 'QuantileLoss[0.1]',\n",
    "                            'QuantileLoss[0.5]', 'QuantileLoss[0.9]', 'seasonal_error', 'MASE', 'sMAPE', 'abs_error',\n",
    "                            'Coverage[0.1]', 'Coverage[0.5]', 'Coverage[0.9]'])\n",
    "top_metrics_DF = top_metrics_DF.rename(columns={\"item_id\": \"Well Name\", \"abs_target_mean\": \"Mean Oil bbls\"})\n",
    "top_metrics_DF = top_metrics_DF[['Well Name', 'Mean Oil bbls', 'RMSE', 'Mean CRPS', 'MAPE']]\n",
    "top_metrics_DF"
   ]
  },
  {
   "cell_type": "code",
   "execution_count": null,
   "id": "4b7b5915",
   "metadata": {},
   "outputs": [],
   "source": []
  },
  {
   "cell_type": "code",
   "execution_count": null,
   "id": "dcf517f1",
   "metadata": {},
   "outputs": [],
   "source": []
  },
  {
   "cell_type": "code",
   "execution_count": null,
   "id": "4d3f7ff7",
   "metadata": {},
   "outputs": [],
   "source": []
  },
  {
   "cell_type": "code",
   "execution_count": 45,
   "id": "05c3f1bb",
   "metadata": {},
   "outputs": [
    {
     "ename": "NameError",
     "evalue": "name 'top_metrics_copy' is not defined",
     "output_type": "error",
     "traceback": [
      "\u001b[1;31m---------------------------------------------------------------------------\u001b[0m",
      "\u001b[1;31mNameError\u001b[0m                                 Traceback (most recent call last)",
      "\u001b[1;32m~\\AppData\\Local\\Temp/ipykernel_25028/1078100539.py\u001b[0m in \u001b[0;36m<module>\u001b[1;34m\u001b[0m\n\u001b[1;32m----> 1\u001b[1;33m \u001b[0mtop_metrics_copy_DF\u001b[0m \u001b[1;33m=\u001b[0m \u001b[0mpd\u001b[0m\u001b[1;33m.\u001b[0m\u001b[0mDataFrame\u001b[0m\u001b[1;33m(\u001b[0m\u001b[0mtop_metrics_copy\u001b[0m\u001b[1;33m)\u001b[0m\u001b[1;33m\u001b[0m\u001b[0m\n\u001b[0m\u001b[0;32m      2\u001b[0m top_metrics_copy_DF.drop(columns=['MSE', 'abs_target_sum', 'MSIS', 'QuantileLoss[0.1]',\n\u001b[0;32m      3\u001b[0m                             \u001b[1;34m'QuantileLoss[0.5]'\u001b[0m\u001b[1;33m,\u001b[0m \u001b[1;34m'QuantileLoss[0.9]'\u001b[0m\u001b[1;33m,\u001b[0m \u001b[1;34m'seasonal_error'\u001b[0m\u001b[1;33m,\u001b[0m \u001b[1;34m'MASE'\u001b[0m\u001b[1;33m,\u001b[0m \u001b[1;34m'sMAPE'\u001b[0m\u001b[1;33m,\u001b[0m \u001b[1;34m'abs_error'\u001b[0m\u001b[1;33m,\u001b[0m\u001b[1;33m\u001b[0m\u001b[0m\n\u001b[0;32m      4\u001b[0m                             'Coverage[0.1]', 'Coverage[0.5]', 'Coverage[0.9]'])\n\u001b[0;32m      5\u001b[0m \u001b[0mtop_metrics_copy_DF\u001b[0m \u001b[1;33m=\u001b[0m \u001b[0mtop_metrics_copy_DF\u001b[0m\u001b[1;33m.\u001b[0m\u001b[0mrename\u001b[0m\u001b[1;33m(\u001b[0m\u001b[0mcolumns\u001b[0m\u001b[1;33m=\u001b[0m\u001b[1;33m{\u001b[0m\u001b[1;34m\"item_id\"\u001b[0m\u001b[1;33m:\u001b[0m \u001b[1;34m\"Well Name\"\u001b[0m\u001b[1;33m,\u001b[0m \u001b[1;34m\"abs_target_mean\"\u001b[0m\u001b[1;33m:\u001b[0m \u001b[1;34m\"Mean Oil bbls\"\u001b[0m\u001b[1;33m}\u001b[0m\u001b[1;33m)\u001b[0m\u001b[1;33m\u001b[0m\u001b[0m\n",
      "\u001b[1;31mNameError\u001b[0m: name 'top_metrics_copy' is not defined"
     ]
    }
   ],
   "source": [
    "top_metrics_copy_DF = pd.DataFrame(top_metrics_copy)\n",
    "top_metrics_copy_DF.drop(columns=['MSE', 'abs_target_sum', 'MSIS', 'QuantileLoss[0.1]',\n",
    "                            'QuantileLoss[0.5]', 'QuantileLoss[0.9]', 'seasonal_error', 'MASE', 'sMAPE', 'abs_error',\n",
    "                            'Coverage[0.1]', 'Coverage[0.5]', 'Coverage[0.9]'])\n",
    "top_metrics_copy_DF = top_metrics_copy_DF.rename(columns={\"item_id\": \"Well Name\", \"abs_target_mean\": \"Mean Oil bbls\"})\n",
    "top_metrics_copy_DF = top_metrics_copy_DF[['Well Name', 'Mean Oil bbls', 'RMSE', 'Mean CRPS', 'MAPE']]\n",
    "top_metrics_copy_DF"
   ]
  },
  {
   "cell_type": "code",
   "execution_count": null,
   "id": "eba0ace2",
   "metadata": {},
   "outputs": [],
   "source": [
    "top_metrics_copy = top_metrics\n",
    "agg_copy = agg_metrics\n",
    "item_copy = item_metrics\n",
    "forecast_copy = forecasts\n",
    "tss_copy = tss"
   ]
  },
  {
   "cell_type": "code",
   "execution_count": null,
   "id": "850198f3",
   "metadata": {},
   "outputs": [],
   "source": [
    "for i in range(len(tss_copy)):\n",
    "    if well_names[i] == \"I-28H McKitrick\": #in test_wells:\n",
    "        plot_prob_forecasts(tss_copy[i], forecast_copy[i], well_names[i])  "
   ]
  },
  {
   "cell_type": "code",
   "execution_count": null,
   "id": "a6a0e6d2",
   "metadata": {},
   "outputs": [],
   "source": [
    "#Vanilla: 1.399\t164.4218\n",
    "#Injection: 0.986\t160.735\n",
    "aggDict = pd.DataFrame({\"Model Type\":[\"Vanilla\", \"Integrated\"], \"MAPE\":[1.399, 0.986], \"Mean CRPS\":[164.422, 160.735]})\n",
    "#pd.DataFrame([aggDict, aggDict_copy])\n",
    "#aggDict.drop(columns=\"Type\")\n",
    "aggDict"
   ]
  },
  {
   "cell_type": "code",
   "execution_count": null,
   "id": "45485889",
   "metadata": {},
   "outputs": [],
   "source": []
  }
 ],
 "metadata": {
  "kernelspec": {
   "display_name": "Python [conda env:FRI_env]",
   "language": "python",
   "name": "conda-env-FRI_env-py"
  },
  "language_info": {
   "codemirror_mode": {
    "name": "ipython",
    "version": 3
   },
   "file_extension": ".py",
   "mimetype": "text/x-python",
   "name": "python",
   "nbconvert_exporter": "python",
   "pygments_lexer": "ipython3",
   "version": "3.7.0"
  }
 },
 "nbformat": 4,
 "nbformat_minor": 5
}
