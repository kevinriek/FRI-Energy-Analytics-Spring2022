{
 "cells": [
  {
   "cell_type": "code",
   "execution_count": 1,
   "id": "d98bf724",
   "metadata": {},
   "outputs": [],
   "source": [
    "import numpy as np                        # ndarrys for gridded data\n",
    "import pandas as pd                       # DataFrames for tabular data\n",
    "import os                                 # set working directory, run executables\n",
    "import matplotlib.pyplot as plt           # for plotting\n",
    "import copy                               # for deep copies\n",
    "import warnings\n",
    "import json\n",
    "import properscoring as ps\n",
    "import random"
   ]
  },
  {
   "cell_type": "code",
   "execution_count": 2,
   "id": "41798c25",
   "metadata": {},
   "outputs": [],
   "source": [
    "from gluonts.model.deepar import DeepAREstimator\n",
    "from gluonts.mx.trainer import Trainer\n",
    "from gluonts.dataset.util import to_pandas\n",
    "from gluonts.evaluation import make_evaluation_predictions\n",
    "from gluonts.dataset.common import ListDataset\n",
    "from gluonts.evaluation import make_evaluation_predictions\n",
    "from gluonts.evaluation import Evaluator\n",
    "from gluonts.dataset.field_names import FieldName\n",
    "\n",
    "from sklearn.metrics import mean_squared_error as mse\n",
    "from sklearn.preprocessing import MinMaxScaler\n",
    "import scipy\n",
    "import logging"
   ]
  },
  {
   "cell_type": "code",
   "execution_count": 3,
   "id": "440e13aa",
   "metadata": {},
   "outputs": [],
   "source": [
    "#Display all of the rows in a dataframe\n",
    "pd.set_option('display.max_rows', 10000)\n",
    "warnings.filterwarnings(\"ignore\")\n",
    "sc = MinMaxScaler()\n",
    "sens_analysis = False\n",
    "pred_len = 60"
   ]
  },
  {
   "cell_type": "code",
   "execution_count": 11,
   "id": "cb9b516d",
   "metadata": {},
   "outputs": [],
   "source": [
    "filename = os.path.abspath('') + '\\\\Data\\\\Filtered\\\\FilteredProduction.xlsx'\n",
    "file = open(filename, \"rb\")\n",
    "prodDF = pd.read_excel(file, engine=\"openpyxl\")\n",
    "\n",
    "filename = os.path.abspath('') + '\\\\Data\\\\Filtered\\\\FilteredInjection.xlsx'\n",
    "file = open(filename, \"rb\")\n",
    "injectDF = pd.read_excel(file, engine=\"openpyxl\")\n",
    "\n",
    "filename = \"LongestProductionWells.xlsx\"\n",
    "filename = os.path.abspath('') + \"\\\\Data\\\\Use\\\\\" + filename\n",
    "file = open(filename, \"rb\")\n",
    "testDF = pd.read_excel(file, engine='openpyxl')"
   ]
  },
  {
   "cell_type": "code",
   "execution_count": 13,
   "id": "631d1877",
   "metadata": {},
   "outputs": [],
   "source": [
    "#Filter to one well\n",
    "use_well = \"43-29A-H Brown\"\n",
    "use_unit = \"Central Buffalo Red River Unit\"\n",
    "\n",
    "p_units = prodDF.groupby(prodDF.Well_Name)\n",
    "prodDF = p_units.get_group(use_well)\n",
    "\n",
    "i_units = injectDF.groupby(injectDF.Enhanced_Recovery_Unit)\n",
    "injectDF = i_units.get_group(use_unit)"
   ]
  },
  {
   "cell_type": "code",
   "execution_count": 26,
   "id": "06ea2521",
   "metadata": {},
   "outputs": [],
   "source": [
    "###########    Injection by Unit     #########\n",
    "p_units = prodDF.groupby(prodDF.Enhanced_Recovery_Unit)\n",
    "i_units = injectDF.groupby(injectDF.Enhanced_Recovery_Unit)"
   ]
  },
  {
   "cell_type": "code",
   "execution_count": 27,
   "id": "d78d8dbb",
   "metadata": {},
   "outputs": [],
   "source": [
    "def run_unit(name, p_unit, i_unit):\n",
    "    #Group dataset by well\n",
    "    well_groups = p_unit.groupby(p_unit.Well_Name)\n",
    "    well_names = []\n",
    "    wells = []\n",
    "    \n",
    "    prod_Data_Vol = 0\n",
    "    inj_Data_Vol = 0\n",
    "    \n",
    "    for well, data in well_groups:\n",
    "        well_names.append(well)\n",
    "        if (len(data) > pred_len):\n",
    "            wells.append(data)\n",
    "            prod_Data_Vol += len(well)\n",
    "    \n",
    "    i_well_groups = i_unit.groupby([\"Well_Name\"])\n",
    "    i_wells = []\n",
    "    for i_well, data in i_well_groups:\n",
    "        i_wells.append(data)\n",
    "        inj_Data_Vol += len(i_well)\n",
    "            \n",
    "    train_list = []\n",
    "    test_list = []\n",
    "    for x in wells:\n",
    "        length = x.Oil_bbls.size\n",
    "\n",
    "        covar_train = []\n",
    "        covar_test = []\n",
    "\n",
    "        for i in i_wells:            #Injection: all wells\n",
    "            i_well = i\n",
    "            i_well = i_well.set_index(i_well.Date_Injection_Report)\n",
    "            i_well = i_well[~i_well.index.duplicated()]\n",
    "            \n",
    "            i_well = i_well.reindex(x.Date_Production, fill_value=0)\n",
    "\n",
    "            if (sens_analysis):\n",
    "                #Set the test injection covariate values (to see effect)\n",
    "                ratio = 1.0    #Proportion to set all test injection values to\n",
    "                i_well.Vol_Fluid_Injected[int(length - pred_len):] = max(i_well.Vol_Fluid_Injected) * ratio\n",
    "\n",
    "            #series = sc.fit_transform(i_well.Vol_Fluid_Injected.values.reshape(-1, 1))\n",
    "            #series = series.reshape(1, -1)[0]\n",
    "            #covar_train.append(series[:int(length - pred_len)])\n",
    "            #covar_test.append(series)\n",
    "            covar_train.append(i_well.Vol_Fluid_Injected[:int(length - pred_len)])\n",
    "            covar_test.append(i_well.Vol_Fluid_Injected)\n",
    "            \n",
    "            \n",
    "        #covar_train = sc.fit_transform(covar_train)\n",
    "        #covar_test = sc.fit_transform(covar_test)\n",
    "\n",
    "        prod_days = sc.fit_transform(x.Prod_Days.values.reshape(-1, 1))\n",
    "        prod_days = prod_days.reshape(1, -1)[0]\n",
    "\n",
    "        np.insert(covar_train, 0, prod_days[:int(length - pred_len)])\n",
    "        np.insert(covar_test, 0, prod_days)\n",
    "\n",
    "        train_list.append({\n",
    "            'target': x.Oil_bbls[:int(length - pred_len)],\n",
    "            'start': x.iloc[0].Date_Production,\n",
    "            'feat_dynamic_real': covar_train\n",
    "        })\n",
    "        test_list.append({\n",
    "            'target': x.Oil_bbls,\n",
    "            'start': x.iloc[0].Date_Production,\n",
    "            'feat_dynamic_real': covar_test\n",
    "        })\n",
    "    train_ds = ListDataset(train_list, freq=\"1M\")\n",
    "    test_ds = ListDataset(test_list, freq=\"1M\")\n",
    "    \n",
    "    estimator = DeepAREstimator(freq=\"1M\", prediction_length=pred_len, trainer=Trainer(epochs=25),\n",
    "                                    #, learning_rate=.001,\n",
    "                                    #num_batches_per_epoch=50), \n",
    "                                    use_feat_dynamic_real=True)  #Tuning without Injection!!!\n",
    "                                    #num_cells=40, num_layers=1, dropout_rate=.6, batch_size=32,\n",
    "                                    #context_length=30, cell_type='lstm')\n",
    "\n",
    "\n",
    "    predictor = estimator.train(training_data=train_ds)\n",
    "    forecast_it, ts_it = make_evaluation_predictions(\n",
    "        dataset=test_ds,  # test dataset\n",
    "        predictor=predictor,  # predictor\n",
    "        num_samples=10,  # number of sample paths we want for evaluation          #Tune this value???\n",
    "    )\n",
    "    forecasts = list(forecast_it)\n",
    "    tss = list(ts_it)\n",
    "    \n",
    "    evaluator = Evaluator(quantiles=[0.1, 0.5, 0.9])\n",
    "    agg_metrics, item_metrics = evaluator(iter(tss), iter(forecasts), num_series=len(train_ds))\n",
    "    \n",
    "    crps_list = []\n",
    "    for i in range(len(tss)):\n",
    "        crps = ps.crps_ensemble(tss[i][(len(tss[i]) - pred_len):][0].values, np.transpose(forecasts[i].samples)).mean()\n",
    "        crps_list.append(crps)\n",
    "\n",
    "    item_metrics['Mean CRPS'] = crps_list\n",
    "    item_metrics['RMSE'] = item_metrics['MSE']**(.5)\n",
    "    agg_metrics['Mean CRPS'] = sum(crps_list)/len(crps_list)\n",
    "    aggDF = pd.DataFrame([agg_metrics])\n",
    "    \n",
    "    ret_DF = {\"Unit_Name\":name, \"Inj_Data_Vol\":inj_Data_Vol, \"Prod_Data_Vol\":prod_Data_Vol,\n",
    "              \"agg_DF\":aggDF, \"forecasts\":forecasts, \"tss\":tss, \"agg_metrics\":agg_metrics, \"item_metrics\":item_metrics}\n",
    "    return ret_DF"
   ]
  },
  {
   "cell_type": "code",
   "execution_count": 28,
   "id": "e77524f1",
   "metadata": {},
   "outputs": [
    {
     "name": "stderr",
     "output_type": "stream",
     "text": [
      "WARNING:root: Running Unit: Central Buffalo Red River Unit\n",
      "100%|█████████████████████████████████████████████████| 50/50 [00:04<00:00, 12.17it/s, epoch=1/25, avg_epoch_loss=9.05]\n",
      "100%|█████████████████████████████████████████████████| 50/50 [00:04<00:00, 11.47it/s, epoch=2/25, avg_epoch_loss=8.58]\n",
      "100%|█████████████████████████████████████████████████| 50/50 [00:04<00:00, 11.08it/s, epoch=3/25, avg_epoch_loss=8.14]\n",
      "100%|█████████████████████████████████████████████████| 50/50 [00:04<00:00, 10.85it/s, epoch=4/25, avg_epoch_loss=7.81]\n",
      "100%|██████████████████████████████████████████████████| 50/50 [00:04<00:00, 10.38it/s, epoch=5/25, avg_epoch_loss=7.7]\n",
      "100%|█████████████████████████████████████████████████| 50/50 [00:05<00:00,  8.90it/s, epoch=6/25, avg_epoch_loss=7.58]\n",
      "100%|██████████████████████████████████████████████████| 50/50 [00:04<00:00, 11.30it/s, epoch=7/25, avg_epoch_loss=7.5]\n",
      "100%|█████████████████████████████████████████████████| 50/50 [00:04<00:00, 12.36it/s, epoch=8/25, avg_epoch_loss=7.49]\n",
      "100%|█████████████████████████████████████████████████| 50/50 [00:04<00:00, 12.24it/s, epoch=9/25, avg_epoch_loss=7.47]\n",
      "100%|█████████████████████████████████████████████████| 50/50 [00:05<00:00,  8.59it/s, epoch=10/25, avg_epoch_loss=7.4]\n",
      "100%|████████████████████████████████████████████████| 50/50 [00:06<00:00,  7.70it/s, epoch=11/25, avg_epoch_loss=7.44]\n",
      "100%|████████████████████████████████████████████████| 50/50 [00:07<00:00,  7.10it/s, epoch=12/25, avg_epoch_loss=7.36]\n",
      "100%|█████████████████████████████████████████████████| 50/50 [00:05<00:00, 10.00it/s, epoch=13/25, avg_epoch_loss=7.3]\n",
      "100%|████████████████████████████████████████████████| 50/50 [00:03<00:00, 12.53it/s, epoch=14/25, avg_epoch_loss=7.28]\n",
      "100%|████████████████████████████████████████████████| 50/50 [00:03<00:00, 12.56it/s, epoch=15/25, avg_epoch_loss=7.23]\n",
      "100%|████████████████████████████████████████████████| 50/50 [00:04<00:00, 12.42it/s, epoch=16/25, avg_epoch_loss=7.22]\n",
      "100%|████████████████████████████████████████████████| 50/50 [00:04<00:00, 11.55it/s, epoch=17/25, avg_epoch_loss=7.24]\n",
      "100%|████████████████████████████████████████████████| 50/50 [00:04<00:00, 12.21it/s, epoch=18/25, avg_epoch_loss=7.15]\n",
      "100%|████████████████████████████████████████████████| 50/50 [00:04<00:00, 11.35it/s, epoch=19/25, avg_epoch_loss=7.12]\n",
      "100%|████████████████████████████████████████████████| 50/50 [00:04<00:00, 12.21it/s, epoch=20/25, avg_epoch_loss=7.13]\n",
      "100%|████████████████████████████████████████████████| 50/50 [00:04<00:00, 12.23it/s, epoch=21/25, avg_epoch_loss=7.19]\n",
      "100%|████████████████████████████████████████████████| 50/50 [00:04<00:00, 12.27it/s, epoch=22/25, avg_epoch_loss=7.18]\n",
      "100%|████████████████████████████████████████████████| 50/50 [00:04<00:00, 12.23it/s, epoch=23/25, avg_epoch_loss=7.14]\n",
      "100%|████████████████████████████████████████████████| 50/50 [00:04<00:00, 12.29it/s, epoch=24/25, avg_epoch_loss=7.08]\n",
      "100%|████████████████████████████████████████████████| 50/50 [00:04<00:00, 12.48it/s, epoch=25/25, avg_epoch_loss=7.02]\n",
      "Running evaluation: 100%|███████████████████████████████████████████████████████████████| 1/1 [00:00<00:00, 200.00it/s]\n"
     ]
    }
   ],
   "source": [
    "results = []\n",
    "for name, data in p_units:\n",
    "    random.seed(42)\n",
    "    if (name in [\"Alum Creek Unit\", \"Buffalo Red River Unit\", \"Central Buffalo Red River Unit\",\n",
    "                \"East Harding Springs Red River Unit\", \"North Buffalo Red River Unit\",\n",
    "                \"Pete's Creek Red River Unit\", \"South Buffalo Red River Unit\",\n",
    "                \"West Buffalo B Red River Unit\", \"West Buffalo Red River Unit\"]):\n",
    "        \n",
    "        logging.warning(\" Running Unit: \" + name) \n",
    "        p_unit = p_units.get_group(name)\n",
    "        i_unit = i_units.get_group(name)\n",
    "        results.append(run_unit(name, p_unit, i_unit))"
   ]
  },
  {
   "cell_type": "code",
   "execution_count": 29,
   "id": "21d3c185",
   "metadata": {},
   "outputs": [],
   "source": [
    "results_list = []\n",
    "for x in results:\n",
    "    results_list.append({\"Unit Name\":x[\"Unit_Name\"], \"Inj Data Volume\":x['Inj_Data_Vol'],\n",
    "                         \"Prod Data Volume\":x['Prod_Data_Vol'], \"MAPE\":x['agg_metrics']['MAPE'],\n",
    "                          \"mCRPS\":x['agg_metrics']['Mean CRPS']})\n",
    "results_DF = pd.DataFrame(results_list)"
   ]
  },
  {
   "cell_type": "code",
   "execution_count": 30,
   "id": "cb4ace8c",
   "metadata": {},
   "outputs": [
    {
     "data": {
      "text/html": [
       "<div>\n",
       "<style scoped>\n",
       "    .dataframe tbody tr th:only-of-type {\n",
       "        vertical-align: middle;\n",
       "    }\n",
       "\n",
       "    .dataframe tbody tr th {\n",
       "        vertical-align: top;\n",
       "    }\n",
       "\n",
       "    .dataframe thead th {\n",
       "        text-align: right;\n",
       "    }\n",
       "</style>\n",
       "<table border=\"1\" class=\"dataframe\">\n",
       "  <thead>\n",
       "    <tr style=\"text-align: right;\">\n",
       "      <th></th>\n",
       "      <th>Unit Name</th>\n",
       "      <th>Inj Data Volume</th>\n",
       "      <th>Prod Data Volume</th>\n",
       "      <th>MAPE</th>\n",
       "      <th>mCRPS</th>\n",
       "    </tr>\n",
       "  </thead>\n",
       "  <tbody>\n",
       "    <tr>\n",
       "      <th>0</th>\n",
       "      <td>Central Buffalo Red River Unit</td>\n",
       "      <td>61</td>\n",
       "      <td>14</td>\n",
       "      <td>0.701181</td>\n",
       "      <td>353.644165</td>\n",
       "    </tr>\n",
       "  </tbody>\n",
       "</table>\n",
       "</div>"
      ],
      "text/plain": [
       "                        Unit Name  Inj Data Volume  Prod Data Volume  \\\n",
       "0  Central Buffalo Red River Unit               61                14   \n",
       "\n",
       "       MAPE       mCRPS  \n",
       "0  0.701181  353.644165  "
      ]
     },
     "execution_count": 30,
     "metadata": {},
     "output_type": "execute_result"
    }
   ],
   "source": [
    "results_DF"
   ]
  },
  {
   "cell_type": "code",
   "execution_count": 31,
   "id": "650a3fb2",
   "metadata": {},
   "outputs": [
    {
     "ename": "NameError",
     "evalue": "name 'results_DF_Copy' is not defined",
     "output_type": "error",
     "traceback": [
      "\u001b[1;31m---------------------------------------------------------------------------\u001b[0m",
      "\u001b[1;31mNameError\u001b[0m                                 Traceback (most recent call last)",
      "\u001b[1;32m~\\AppData\\Local\\Temp/ipykernel_21420/4036348012.py\u001b[0m in \u001b[0;36m<module>\u001b[1;34m\u001b[0m\n\u001b[0;32m      1\u001b[0m \u001b[1;31m#results_Copy = results_DF\u001b[0m\u001b[1;33m\u001b[0m\u001b[1;33m\u001b[0m\u001b[0m\n\u001b[0;32m      2\u001b[0m \u001b[1;31m#results_DF_Copy = results_DF\u001b[0m\u001b[1;33m\u001b[0m\u001b[1;33m\u001b[0m\u001b[0m\n\u001b[1;32m----> 3\u001b[1;33m \u001b[0mresults_DF_Copy\u001b[0m\u001b[1;33m\u001b[0m\u001b[0m\n\u001b[0m",
      "\u001b[1;31mNameError\u001b[0m: name 'results_DF_Copy' is not defined"
     ]
    }
   ],
   "source": [
    "#results_Copy = results_DF\n",
    "#results_DF_Copy = results_DF\n",
    "results_DF_Copy"
   ]
  },
  {
   "cell_type": "code",
   "execution_count": null,
   "id": "28a8801b",
   "metadata": {},
   "outputs": [],
   "source": [
    "well_names = []\n",
    "well_groups = prodDF.groupby(prodDF.Well_Name)\n",
    "for well, data in well_groups:\n",
    "    well_names.append(well)"
   ]
  },
  {
   "cell_type": "code",
   "execution_count": null,
   "id": "413b1fae",
   "metadata": {},
   "outputs": [],
   "source": [
    "plt.scatter(x=results_DF.Prod_Data_Vol + results_DF.Inj_Data_Vol, y=results_DF.MAPE)"
   ]
  },
  {
   "cell_type": "code",
   "execution_count": 32,
   "id": "b59c553a",
   "metadata": {},
   "outputs": [],
   "source": [
    "def plot_prob_forecasts(ts_entry, forecast_entry, well_name):\n",
    "    plot_length = 200\n",
    "    prediction_intervals = (50.0, 90.0)\n",
    "    legend = [\"observations\", \"median prediction\"] + [f\"{k}% prediction interval\" for k in prediction_intervals][::-1]\n",
    "\n",
    "    fig, ax = plt.subplots(1, 1, figsize=(10, 7))\n",
    "    ts_entry[-plot_length:].plot(ax=ax)  # plot the time series\n",
    "    forecast_entry.plot(prediction_intervals=prediction_intervals, color='g')\n",
    "    plt.subplots_adjust(left=0.0, bottom=0.0, right=1.15, top=1.0, wspace=0.2, hspace=0.2)\n",
    "    plt.grid(which=\"both\")\n",
    "    plt.legend(legend, loc=\"upper right\")\n",
    "    plt.xlabel('year')\n",
    "    plt.ylabel('Oil bbls')\n",
    "    plt.title(\"+Injection \" + well_name + \" Forecast\")\n",
    "    plt.show()"
   ]
  },
  {
   "cell_type": "code",
   "execution_count": 33,
   "id": "ec041548",
   "metadata": {},
   "outputs": [
    {
     "data": {
      "image/png": "[encoded data removed]",
      "text/plain": [
       "<Figure size 720x504 with 1 Axes>"
      ]
     },
     "metadata": {
      "needs_background": "light"
     },
     "output_type": "display_data"
    }
   ],
   "source": [
    "for i in range(len(results[0]['tss'])):\n",
    "    #if well_names[i] == \"I-28H McKitrick\": #in test_wells:\n",
    "    plot_prob_forecasts(results[0]['tss'][i], results[0]['forecasts'][i], well_names[i])       "
   ]
  },
  {
   "cell_type": "code",
   "execution_count": 67,
   "id": "237600c0",
   "metadata": {
    "scrolled": true
   },
   "outputs": [
    {
     "data": {
      "text/html": [
       "<div>\n",
       "<style scoped>\n",
       "    .dataframe tbody tr th:only-of-type {\n",
       "        vertical-align: middle;\n",
       "    }\n",
       "\n",
       "    .dataframe tbody tr th {\n",
       "        vertical-align: top;\n",
       "    }\n",
       "\n",
       "    .dataframe thead th {\n",
       "        text-align: right;\n",
       "    }\n",
       "</style>\n",
       "<table border=\"1\" class=\"dataframe\">\n",
       "  <thead>\n",
       "    <tr style=\"text-align: right;\">\n",
       "      <th></th>\n",
       "      <th>MAPE</th>\n",
       "      <th>Mean CRPS</th>\n",
       "    </tr>\n",
       "  </thead>\n",
       "  <tbody>\n",
       "    <tr>\n",
       "      <th>0</th>\n",
       "      <td>1.212</td>\n",
       "      <td>165.7567</td>\n",
       "    </tr>\n",
       "  </tbody>\n",
       "</table>\n",
       "</div>"
      ],
      "text/plain": [
       "    MAPE  Mean CRPS\n",
       "0  1.212   165.7567"
      ]
     },
     "execution_count": 67,
     "metadata": {},
     "output_type": "execute_result"
    }
   ],
   "source": [
    "aggDict = {'MAPE':round(agg_metrics['MAPE'], 3), \n",
    "           'Mean CRPS':round(agg_metrics['Mean CRPS'], 4)}\n",
    "aggDF = pd.DataFrame([aggDict])\n",
    "aggDF"
   ]
  },
  {
   "cell_type": "code",
   "execution_count": 68,
   "id": "461e1eee",
   "metadata": {},
   "outputs": [],
   "source": [
    "#1.087\t111.9364"
   ]
  },
  {
   "cell_type": "code",
   "execution_count": 69,
   "id": "b7749a89",
   "metadata": {},
   "outputs": [
    {
     "data": {
      "text/html": [
       "<div>\n",
       "<style scoped>\n",
       "    .dataframe tbody tr th:only-of-type {\n",
       "        vertical-align: middle;\n",
       "    }\n",
       "\n",
       "    .dataframe tbody tr th {\n",
       "        vertical-align: top;\n",
       "    }\n",
       "\n",
       "    .dataframe thead th {\n",
       "        text-align: right;\n",
       "    }\n",
       "</style>\n",
       "<table border=\"1\" class=\"dataframe\">\n",
       "  <thead>\n",
       "    <tr style=\"text-align: right;\">\n",
       "      <th></th>\n",
       "      <th>Well Name</th>\n",
       "      <th>Mean Oil bbls</th>\n",
       "      <th>RMSE</th>\n",
       "      <th>Mean CRPS</th>\n",
       "      <th>MAPE</th>\n",
       "    </tr>\n",
       "  </thead>\n",
       "  <tbody>\n",
       "    <tr>\n",
       "      <th>57</th>\n",
       "      <td>SBRRU 14-28</td>\n",
       "      <td>428.233333</td>\n",
       "      <td>269.027647</td>\n",
       "      <td>156.256348</td>\n",
       "      <td>6.518790</td>\n",
       "    </tr>\n",
       "    <tr>\n",
       "      <th>74</th>\n",
       "      <td>SBRRU 34-11</td>\n",
       "      <td>774.333333</td>\n",
       "      <td>281.243163</td>\n",
       "      <td>161.389297</td>\n",
       "      <td>0.331082</td>\n",
       "    </tr>\n",
       "  </tbody>\n",
       "</table>\n",
       "</div>"
      ],
      "text/plain": [
       "      Well Name  Mean Oil bbls        RMSE   Mean CRPS      MAPE\n",
       "57  SBRRU 14-28     428.233333  269.027647  156.256348  6.518790\n",
       "74  SBRRU 34-11     774.333333  281.243163  161.389297  0.331082"
      ]
     },
     "execution_count": 69,
     "metadata": {},
     "output_type": "execute_result"
    }
   ],
   "source": [
    "top_metrics = []\n",
    "for i in range(len(item_metrics)):\n",
    "    item_metrics.item_id[i] = well_names[i]\n",
    "    if well_names[i] in test_wells:\n",
    "        top_metrics.append(item_metrics.iloc[i])\n",
    "top_metrics_DF = pd.DataFrame(top_metrics)\n",
    "top_metrics_DF.drop(columns=['MSE', 'abs_target_sum', 'MSIS', 'QuantileLoss[0.1]',\n",
    "                            'QuantileLoss[0.5]', 'QuantileLoss[0.9]', 'seasonal_error', 'MASE', 'sMAPE', 'abs_error',\n",
    "                            'Coverage[0.1]', 'Coverage[0.5]', 'Coverage[0.9]'])\n",
    "top_metrics_DF = top_metrics_DF.rename(columns={\"item_id\": \"Well Name\", \"abs_target_mean\": \"Mean Oil bbls\"})\n",
    "top_metrics_DF = top_metrics_DF[['Well Name', 'Mean Oil bbls', 'RMSE', 'Mean CRPS', 'MAPE']]\n",
    "top_metrics_DF"
   ]
  }
 ],
 "metadata": {
  "kernelspec": {
   "display_name": "Python [conda env:FRI_env]",
   "language": "python",
   "name": "conda-env-FRI_env-py"
  },
  "language_info": {
   "codemirror_mode": {
    "name": "ipython",
    "version": 3
   },
   "file_extension": ".py",
   "mimetype": "text/x-python",
   "name": "python",
   "nbconvert_exporter": "python",
   "pygments_lexer": "ipython3",
   "version": "3.7.0"
  }
 },
 "nbformat": 4,
 "nbformat_minor": 5
}
